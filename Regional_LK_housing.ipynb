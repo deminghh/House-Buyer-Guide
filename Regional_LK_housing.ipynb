{
 "cells": [
  {
   "cell_type": "code",
   "execution_count": null,
   "metadata": {},
   "outputs": [],
   "source": [
    "import requests\n",
    "import json\n",
    "import pandas as pd\n",
    "import io"
   ]
  },
  {
   "cell_type": "code",
   "execution_count": null,
   "metadata": {},
   "outputs": [],
   "source": [
    "request_url = 'https://www.regionalstatistik.de/genesis/online'\n",
    "request_params = {\n",
    "    \"operation\": \"download\",\n",
    "    \"code\": \"12411-01-01-4\",\n",
    "    \"startjahr\":\"\",\n",
    "    \"endjahr\": \"\",\n",
    "    \"zeiten\": \"\",\n",
    "    \"option\":\"csv\", #(csv, ffcsv, xlsx, xml)\n",
    "    \"zeitscheiben\": \"2\",  #Anzahl der aktuellsten Zeitscheiben, die tabelliert werden sollen\n",
    "    \"language\": \"de\"\n",
    "}\n",
    "# save the response\n",
    "de_response = requests.get(url=request_url, params=request_params)\n",
    "de_response"
   ]
  },
  {
   "cell_type": "code",
   "execution_count": null,
   "metadata": {},
   "outputs": [],
   "source": [
    "de_response.content"
   ]
  }
 ],
 "metadata": {
  "language_info": {
   "name": "python"
  },
  "orig_nbformat": 4
 },
 "nbformat": 4,
 "nbformat_minor": 2
}
