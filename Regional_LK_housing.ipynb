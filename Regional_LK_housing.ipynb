{
 "cells": [
  {
   "cell_type": "code",
   "execution_count": null,
   "metadata": {},
   "outputs": [],
   "source": [
    "import requests\n",
    "import json\n",
    "import pandas as pd\n",
    "import io"
   ]
  },
  {
   "cell_type": "code",
   "execution_count": null,
   "metadata": {},
   "outputs": [],
   "source": [
    "request_url = 'https://www.regionalstatistik.de/genesis/online'\n",
    "request_params = {\n",
    "    \"operation\": \"download\",\n",
    "    \"code\": \"31231-01-02-4\",\n",
    "    \"startjahr\":\"2000\",\n",
    "    \"endjahr\": \"2005\",\n",
    "    \"zeiten\": \"\",\n",
    "    \"option\":\"csv\", #(csv, ffcsv, xlsx, xml)\n",
    "    \"zeitscheiben\": \"\",  #Anzahl der aktuellsten Zeitscheiben, die tabelliert werden sollen\n",
    "    \"language\": \"de\"\n",
    "}\n",
    "# save the response\n",
    "de_response = requests.get(url=request_url, params=request_params)\n",
    "de_response"
   ]
  },
  {
   "cell_type": "code",
   "execution_count": null,
   "metadata": {},
   "outputs": [],
   "source": [
    "with open('data/year_2000_2005.csv', 'wb') as f:\n",
    "    f.write(de_response.content)\n",
    "data = pd.read_csv('data/year_2000_2005.csv',delimiter=';', skiprows=4, skipfooter=4, header=[0,1,2], encoding = 'latin1', decimal=',')\n",
    "data.columns = data.columns.map('_'.join)\n",
    "data.columns = data.columns.str.replace(' ','_')\n",
    "data.drop(columns=[\n",
    "       'Gebäude_nach_Anzahl_der_Wohnungen_1_Wohnung_Anzahl',\n",
    "       'Gebäude_nach_Anzahl_der_Wohnungen_2_Wohnungen_Anzahl',\n",
    "       'Größe_der_Wohnung_Wohnungen_mit_1_Raum_Anzahl',\n",
    "       'Größe_der_Wohnung_Wohnungen_mit_2_Räumen_Anzahl',\n",
    "       'Größe_der_Wohnung_Wohnungen_mit_3_Räumen_Anzahl',\n",
    "       'Größe_der_Wohnung_Wohnungen_mit_4_Räumen_Anzahl',\n",
    "       'Größe_der_Wohnung_Wohnungen_mit_5_Räumen_Anzahl',\n",
    "       'Größe_der_Wohnung_Wohnungen_mit_6_Räumen_Anzahl',\n",
    "       'Größe_der_Wohnung_Wohnungen_mit_7_Räumen_oder_mehr_Anzahl',\n",
    "       'Unnamed:_15_level_0_Unnamed:_15_level_1_Anzahl'], inplace=True)\n",
    "data.rename(columns={'Unnamed:_0_level_0_Unnamed:_0_level_1_Unnamed:_0_level_2': 'year',\n",
    "       'Unnamed:_1_level_0_Unnamed:_1_level_1_Unnamed:_1_level_2':'code',\n",
    "       'Unnamed:_2_level_0_Unnamed:_2_level_1_Unnamed:_2_level_2':'district',\n",
    "       'Gebäude_nach_Anzahl_der_Wohnungen_Insgesamt_Anzahl':'number_of_buildings',\n",
    "       'Unnamed:_6_level_0_Unnamed:_6_level_1_1000_qm': 'living_space_1000qm',\n",
    "       'Größe_der_Wohnung_Insgesamt_Anzahl' : 'number_of_apartments'\n",
    "},inplace=True)\n",
    "data[\"year\"]= pd.to_datetime(data[\"year\"]).dt.year\n",
    "data[\"number_of_buildings\"]= pd.to_numeric(data[\"number_of_buildings\"],errors='coerce')\n",
    "data[\"number_of_apartments\"]= pd.to_numeric(data[\"number_of_apartments\"],errors='coerce')\n",
    "data[\"living_space_1000qm\"]= pd.to_numeric(data[\"living_space_1000qm\"],errors='coerce')\n",
    "data = data.query('code.str.len() == 5')\n",
    "data['country'] = ['Germany']*data.shape[0]\n",
    "data['state_code'] = data['code'].map(lambda x: int(str(x)[:2]))\n",
    "state_maping = {\n",
    "    1 : \"Schleswig-Holstein\",\n",
    "    2 : \"Hamburg\",\n",
    "    3 : \"Niedersachsen\",\n",
    "    4 : \"Bremen\",\n",
    "    5 : \"Nordrhein-Westfalen\",\n",
    "    6 : \"Hessen\",\n",
    "    7 : \"Rheinland-Pfalz\",\n",
    "    8 : \"Baden-Württemberg\",\n",
    "    9 : \"Bayern\",\n",
    "    10 : \"Saarland\",\n",
    "    11 : \"Berlin\",\n",
    "    12 : \"Brandenburg\",\n",
    "    13 : \"Mecklenburg-Vorpommern\",\n",
    "    14 : \"Sachsen\",\n",
    "    15 : \"Sachsen-Anhalt\",\n",
    "    16 : \"Thüringen\",\n",
    "    }\n",
    "data['state'] = data['state_code'].map(state_maping)"
   ]
  },
  {
   "cell_type": "code",
   "execution_count": null,
   "metadata": {},
   "outputs": [],
   "source": [
    "#data.query('number_of_buildings != number_of_buildings')\n",
    "#data['number_of_apartments'] = pd.to_numeric(data['number_of_apartments'], errors='coerce')\n",
    "#data['number_of_buildings'] = pd.to_numeric(data['number_of_buildings'], errors='coerce')\n",
    "#data.query('number_of_buildings != number_of_buildings')\n",
    "#data.query('code 032')\n",
    "#data.drop(columns='new_code',inplace=True)"
   ]
  },
  {
   "cell_type": "code",
   "execution_count": null,
   "metadata": {},
   "outputs": [],
   "source": [
    "data_2000_2010 = pd.concat([data_2006_2010,data])"
   ]
  }
 ],
 "metadata": {
  "language_info": {
   "name": "python"
  },
  "orig_nbformat": 4
 },
 "nbformat": 4,
 "nbformat_minor": 2
}
