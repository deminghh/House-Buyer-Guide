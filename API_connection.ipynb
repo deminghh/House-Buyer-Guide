{
 "cells": [
  {
   "cell_type": "code",
   "execution_count": 2,
   "metadata": {},
   "outputs": [],
   "source": [
    "import requests"
   ]
  },
  {
   "cell_type": "markdown",
   "metadata": {},
   "source": [
    "# say hello to genesis"
   ]
  },
  {
   "cell_type": "code",
   "execution_count": 1,
   "metadata": {},
   "outputs": [],
   "source": [
    "url = 'https://www-genesis.destatis.de/genesisWS/rest/2020/helloworld/whoami'"
   ]
  },
  {
   "cell_type": "code",
   "execution_count": 3,
   "metadata": {},
   "outputs": [],
   "source": [
    "response = requests.get(url)"
   ]
  },
  {
   "cell_type": "code",
   "execution_count": 5,
   "metadata": {},
   "outputs": [
    {
     "data": {
      "text/plain": [
       "b'{\"User-Agent\":\"python-requests/2.27.1\",\"User-IP\":\"79.208.61.253\"}'"
      ]
     },
     "execution_count": 5,
     "metadata": {},
     "output_type": "execute_result"
    }
   ],
   "source": [
    "response.content"
   ]
  },
  {
   "cell_type": "markdown",
   "metadata": {},
   "source": [
    "# logincheck"
   ]
  },
  {
   "cell_type": "code",
   "execution_count": 10,
   "metadata": {},
   "outputs": [],
   "source": [
    "url = 'https://www-genesis.destatis.de/genesisWS/rest/2020/helloworld/logincheck?'\n",
    "\n",
    "parameter = {\n",
    "        \"username\": \"DEB960D757\",\n",
    "        \"password\": \"Mario180!!!!\",\n",
    "        \"language\": \"de\"\n",
    "}"
   ]
  },
  {
   "cell_type": "code",
   "execution_count": 11,
   "metadata": {},
   "outputs": [
    {
     "data": {
      "text/plain": [
       "b'{\"Status\":\"Sie wurden erfolgreich an- und abgemeldet!\",\"Username\":\"DEB960D757\"}'"
      ]
     },
     "execution_count": 11,
     "metadata": {},
     "output_type": "execute_result"
    }
   ],
   "source": [
    "response = requests.get(url, parameter)\n",
    "response.content"
   ]
  },
  {
   "cell_type": "markdown",
   "metadata": {},
   "source": [
    "# Data request"
   ]
  },
  {
   "cell_type": "code",
   "execution_count": 12,
   "metadata": {},
   "outputs": [],
   "source": [
    "url = 'https://www-genesis.destatis.de/genesisWS/rest/2020/data/table?'\n",
    "\n",
    "parameter = {\n",
    "    \"username\": \"DEB960D757\",\n",
    "    \"password\": \"Mario180!!!!\",\n",
    "    \"name\": \"11111-0001\",\n",
    "    \"area\": \"all\",\n",
    "    \"compress\": \"false\",\n",
    "    \"transpose\": \"false\",\n",
    "    \"startyear\": \"\",\n",
    "    \"endyear\": \"\",\n",
    "    \"timeslices\": \"\",\n",
    "    \"regionalvariable\": \"\",\n",
    "    \"regionalkey\": \"\",\n",
    "    \"classifyingvariable1\": \"\",\n",
    "    \"classifyingkey1\": \"\",\n",
    "    \"classifyingvariable2\": \"\",\n",
    "    \"classifyingkey2\": \"\",\n",
    "    \"classifyingvariable3\": \"\",\n",
    "    \"classifyingkey3\": \"\",\n",
    "    \"job\": \"false\",\n",
    "    \"stand\": \"01.01.1970\",\n",
    "    \"language\": \"de\"\n",
    "}"
   ]
  },
  {
   "cell_type": "code",
   "execution_count": 13,
   "metadata": {},
   "outputs": [
    {
     "data": {
      "text/plain": [
       "b'{\"Ident\":{\"Service\":\"data\",\"Method\":\"table\"},\"Status\":{\"Code\":22,\"Content\":\"erfolgreich (Mindestens ein Parameter enth\\xc3\\xa4lt ung\\xc3\\xbcltige Werte. Er wurde angepasst, um den Service starten zu k\\xc3\\xb6nnen.: stand)\",\"Type\":\"Warnung\"},\"Parameter\":{\"username\":\"********************\",\"password\":\"********************\",\"name\":\"11111-0001\",\"area\":\"Alle\",\"compress\":\"false\",\"transpose\":\"false\",\"startyear\":\"\",\"endyear\":\"\",\"timeslices\":\"\",\"regionalvariable\":\"\",\"regionalkey\":\"\",\"classifyingvariable1\":\"\",\"classifyingkey1\":\"\",\"classifyingvariable2\":\"\",\"classifyingkey2\":\"\",\"classifyingvariable3\":\"\",\"classifyingkey3\":\"\",\"format\":\"datencsv\",\"job\":\"false\",\"stand\":\"01.01.1970 01:00\",\"language\":\"de\"},\"Object\":{\"Content\":\"GENESIS-Tabelle: 11111-0001\\\\nGebietsfl\\xc3\\xa4che: Bundesl\\xc3\\xa4nder, Stichtag;\\\\nFeststellung des Gebietsstands;\\\\nGebietsfl\\xc3\\xa4che (qkm);\\\\n;Stichtag\\\\n;31.12.2020\\\\nBaden-W\\xc3\\xbcrttemberg;35747,82\\\\nBayern;70541,57\\\\nBerlin;891,12\\\\nBrandenburg;29654,35\\\\nBremen;419,62\\\\nHamburg;755,09\\\\nHessen;21115,64\\\\nMecklenburg-Vorpommern;23295,45\\\\nNiedersachsen;47709,82\\\\nNordrhein-Westfalen;34112,44\\\\nRheinland-Pfalz;19858,00\\\\nSaarland;2571,11\\\\nSachsen;18449,93\\\\nSachsen-Anhalt;20459,12\\\\nSchleswig-Holstein;15804,30\\\\nTh\\xc3\\xbcringen;16202,39\\\\nInsgesamt;357587,77\\\\n__________\\\\n\\\\\"Gebietsfl\\xc3\\xa4che:\\\\nBerlin (1995-2000):\\\\nbezogen auf den Gebietsstand 01.01.2001.\\\\n\\\\nRheinland-Pfalz:\\\\nLandessumme ab 2004 einschlie\\xc3\\x9flich des Gebietes \\\\\"\\\\\"gemeinsames\\\\ndeutsch-luxemburgisches Hoheitsgebiet\\\\\"\\\\\" von 6,20 qkm.\\\\n\\\\nSachsen (1995):\\\\nbezogen auf den Gebietsstand 01.01.1996.\\\\\"\\\\n\\xc2\\xa9 Statistisches Bundesamt (Destatis), 2022\\\\nStand: 19.05.2022 / 10:11:19\\\\n\",\"Structure\":{\"Head\":{\"Code\":\"11111\",\"Content\":\"Feststellung des Gebietsstands\",\"Type\":\"Statistik\",\"Values\":null,\"Selected\":null,\"Structure\":[{\"Code\":\"FLC006\",\"Content\":\"Gebietsfl\\xc3\\xa4che\",\"Type\":\"Merkmal\",\"Values\":null,\"Selected\":null,\"Structure\":null,\"Updated\":\"see parent\"}],\"Updated\":\"see parent\"},\"Columns\":[{\"Code\":\"STAG\",\"Content\":\"Stichtag\",\"Type\":\"Merkmal\",\"Values\":\"1\",\"Selected\":\"1\",\"Structure\":null,\"Updated\":\"see parent\"}],\"Rows\":[{\"Code\":\"DLAND\",\"Content\":\"Bundesl\\xc3\\xa4nder\",\"Type\":\"Merkmal\",\"Values\":\"16\",\"Selected\":\"16\",\"Structure\":null,\"Updated\":\"see parent\"}],\"Subtitel\":null,\"Subheading\":null}},\"Copyright\":\"\\xc2\\xa9 Statistisches Bundesamt (Destatis), 2022\"}'"
      ]
     },
     "execution_count": 13,
     "metadata": {},
     "output_type": "execute_result"
    }
   ],
   "source": [
    "response = requests.get(url, parameter)\n",
    "response.content"
   ]
  }
 ],
 "metadata": {
  "interpreter": {
   "hash": "59245f005d59a1b3febdac077e3313bfd27846cb7f30143e728896ce552e49eb"
  },
  "kernelspec": {
   "display_name": "Python 3.10.4 ('winter_storm')",
   "language": "python",
   "name": "python3"
  },
  "language_info": {
   "codemirror_mode": {
    "name": "ipython",
    "version": 3
   },
   "file_extension": ".py",
   "mimetype": "text/x-python",
   "name": "python",
   "nbconvert_exporter": "python",
   "pygments_lexer": "ipython3",
   "version": "3.10.4"
  },
  "orig_nbformat": 4
 },
 "nbformat": 4,
 "nbformat_minor": 2
}
